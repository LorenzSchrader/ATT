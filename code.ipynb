{
 "cells": [
  {
   "attachments": {},
   "cell_type": "markdown",
   "metadata": {},
   "source": [
    "# Backend Python Code\n"
   ]
  },
  {
   "cell_type": "code",
   "execution_count": 6,
   "metadata": {},
   "outputs": [],
   "source": [
    "import whisper\n",
    "import numpy as np \n",
    "import pandas as pd\n",
    "from transformers import pipeline\n",
    "from nltk.tokenize import word_tokenize\n",
    "from nltk.corpus import stopwords\n",
    "from nltk.stem import WordNetLemmatizer\n",
    "from sklearn.feature_extraction.text import CountVectorizer\n",
    "import string "
   ]
  },
  {
   "cell_type": "code",
   "execution_count": 111,
   "metadata": {},
   "outputs": [
    {
     "name": "stderr",
     "output_type": "stream",
     "text": [
      "/Users/lorenz/.pyenv/versions/lewagon/envs/att/lib/python3.10/site-packages/whisper/transcribe.py:114: UserWarning: FP16 is not supported on CPU; using FP32 instead\n",
      "  warnings.warn(\"FP16 is not supported on CPU; using FP32 instead\")\n"
     ]
    }
   ],
   "source": [
    "#Model we want to use, currently small, since the computing power is too low for medium. \n",
    "model = whisper.load_model('small')\n",
    "#needs to be connected to the upload and later on saved in the SQL Database\n",
    "result = model.transcribe('data/1.mp3')"
   ]
  },
  {
   "cell_type": "code",
   "execution_count": 112,
   "metadata": {},
   "outputs": [],
   "source": [
    "transcribed_text = result['text']\n",
    "language = result['language']"
   ]
  },
  {
   "cell_type": "code",
   "execution_count": 122,
   "metadata": {},
   "outputs": [],
   "source": [
    "# we can summarize the text with the following line:\n",
    "#summarizer = pipeline(\"summarization\", model=\"facebook/bart-large-cnn\")"
   ]
  },
  {
   "cell_type": "code",
   "execution_count": 139,
   "metadata": {},
   "outputs": [],
   "source": [
    "# to get rid of the punctuation within the text, we use the following lines in order to create a string without them. \n",
    "cleaned_transcribed_text = ''\n",
    "for i in range(len(transcribed_text)): \n",
    "    if transcribed_text[i] in string.punctuation: \n",
    "        cleaned_transcribed_text += transcribed_text[i].replace(transcribed_text[i],'')\n",
    "    else: \n",
    "        cleaned_transcribed_text += transcribed_text[i]"
   ]
  },
  {
   "cell_type": "code",
   "execution_count": 140,
   "metadata": {},
   "outputs": [
    {
     "data": {
      "text/plain": [
       "' What would happen if a gigantic asteroid started hurtling towards Earth Would we all be headed for impending doom like the dinosaurs some 66 million years ago Well we might not go the way of the dinosaurs after all Last September NASAs double asteroid redirection test or DART a spacecraft the size of a golf cart smashed into a small asteroid called dimorphos actually altering its trajectory around another asteroid called didimos in our first ever test of planetary defense Hailed as a no pun intended smashing success no less than five studies in the scientific journal Nature get into the nitty gritty of how exactly our celestial gut punch worked What a moment very few words can really capture this moment This is beautiful to watch Im Tuleka Bose our senior multimedia editor at Scientific American Im here with Lee Billings our senior editor for space and physics who will try to answer some questions Im sure we all have Hey Lee Hey Tuleka Okay so theres a lot of stuff to sift through One of the new studies details how this collision altered the path of dimorphos through space shortening the time it takes to orbit didimos by 33 minutes So Lee how did this work Right ideally and well get into actuality in a moment This is as simple as playing pool shoot one billiard ball into another and the target ball goes flying The more momentum you can transfer the more motion you get So you want to hit near dead center And in DARTs case it was targeted for the leading sunward side of dimorphos which it struck at a speed of more than 14000 miles per hour Thats about three quarters the speed of General Zods spaceship in Zack Snyders Man of Steel movie No Neil Okay so now tell us about the two asteroids Yes the two asteroids Dimorphos is what we call a moonlet of the bigger asteroid didimos Sometimes I call dimorphos diddy moon just because of that right And that helps with gauging DARTs effects Think of dimorphos a bit like the second hand on a clock where didimos is the hour hand or the clock itself Its easier to see small changes by watching how the smaller object moves So to look at how amazing this is lets take a look at the size of dimorphos How big is it exactly And how far away was it So dimorphos is about as big and heavy as the Great Pyramid Its also about as big as the Roman Colosseum Okay thats pretty big But for those of us more steeped in modernity I like to just say its about twice the size of a standard football field And it weighed about an estimated 11 billion pounds Whoa Whereas DART is just a 1260 pound spacecraft about the size and weight of a dairy cow And the fact that DART made a dent at all really comes down to its high velocity impact which we already said was about 14000 miles per hour And all this took place after a deep space voyage to the impact point more than 7 million miles from Earth So thats like a dairy cow smashing into a Great Pyramid Basically it gets messy Huh Well lets get back to the sex We know that getting more details is helping astronomers understand why this crash was so successful What are some of the new details around the impact that have been found And what surprised scientists What was NASAs original goal here Thats a great question Tleka And the answer is that the surprise was how well it worked NASAs official criterion for success was shifting dimorphosis orbit by just 73 seconds Initial predictions if it was actually a billiard ball for instance all solid material Predictions were that maybe DART would nudge it off by about seven minutes Instead we got 33 33 minutes Yeah And that difference is due to dimorphos not being a billiard ball at all Its a loosely bound rubble pile as DARTs final closing images showed So when DART slammed into it it ejected a huge plume a long tail of debris containing more than 2 million pounds of stuff which imparted recoil basically to dimorphosis Its a bit like a kick from a shotgun Oh wow Okay That really helps me visualize it a little bit more So DART was this 330 million spaceship the size of a golf cart And it was completely obliterated by this asteroid in a matter of mere microseconds Scientists seem pretty confident that this was a you know smashing success But what else would we need in order to ensure that any more dangerous asteroids headed for the earth dont obliterate us Great question Talika What we really need to have is better situational awareness How many of these objects are out there What are they made of Where are they And whos working on that now Lots of different people The key is to get a catalog of different sizes of objects their different orbits maybe even what theyre made of and figure out which ones are the most threatening So in terms of certain nearterm projects weve got Hera is the first to mention thats a project from the European Space Agency Its named after the Greek goddess who was married to Zeus I believe kind of the queen of the gods The queen The queen Now Hera was originally supposed to arrive about the same time as DART at Dimorphos and Diddymos but instead due to delays it is now not launching until late next year Its going to arrive sometime in 2026 but thats still going to tell us a whole lot more about the aftermath of this epochal impact Now there are other things to mention as well One project Im excited about is NASAs Neo Surveyor the Near Earth Object Surveyor Space Telescope That is an infrared space telescope thats meant to launch maybe sometime in 2028 And it will be a very big step towards creating this catalog of objects and getting a better sense of whats really out there and what the threats are And on the ground theres something similar too the Varysirubin Observatory One thing thats very important for this mission is it will be doing the same kind of work from the ground It will be taking these full panoramic highresolution images of the sky multiple times per night each and every night making almost a highdefinition movie of the heavens above And itll be able to see little points of light moving around some of which could be Earththreatening asteroids Oh wow And then thats named Dr Varysirubin right Indeed One of the discoverers of dark matter I believe right Yes yes We also know that researchers with the help of amateur astronomers are continuing to comb through the dark data to find out more about the physics geology and chemistry of these two asteroids What are you looking forward to the most defining out in the near future Well honestly I kind of consider Diddymos and Dimorphos a little done and dusted Weve already smacked the space rock Weve seen whats happened Im interested in getting this catalog Im interested in knowing more about the properties of a wide diversity of asteroids because it may not be a rubble pile that comes at us every time What if its a big ball of metal What if its made of ice We dont know Oh yes thats true So clearly the answer is to just smack more cows into pyramids to send out more of these sorts of missions and get a sense of what happens when we wallop things really hard in the solar system That said I have to say I dont think this is going to be enough to save us Theres a lot of situations where something could still hit us real hard and fast and dark wouldnt save us I will definitely rust easy I hope you do Thanks for listening to Science Quickly Im Delica Bose and Im Lee Billings Science Quickly is produced by me Delica Bose Geoffrey Del Vicio and Kelso Harper Dont forget to subscribe to Scientific American wherever you get your podcasts And head to ScientificAmericancom for indepth science news and analysis'"
      ]
     },
     "execution_count": 140,
     "metadata": {},
     "output_type": "execute_result"
    }
   ],
   "source": [
    "cleaned_transcribed_text"
   ]
  },
  {
   "cell_type": "code",
   "execution_count": 142,
   "metadata": {},
   "outputs": [],
   "source": [
    "# then we tokenize the words, in order to count them seperatly. \n",
    "word_tokens = word_tokenize(cleaned_transcribed_text)"
   ]
  },
  {
   "cell_type": "code",
   "execution_count": 143,
   "metadata": {},
   "outputs": [],
   "source": [
    "stop_words = set(stopwords.words('english')) # you can also choose other languages\n",
    "\n",
    "stopwords_removed = [w for w in word_tokens if w not in stop_words] "
   ]
  },
  {
   "cell_type": "code",
   "execution_count": 144,
   "metadata": {},
   "outputs": [],
   "source": [
    "words = []\n",
    "count = []\n",
    "for word in stopwords_removed: \n",
    "    words.append(word)\n",
    "    count.append(stopwords_removed.count(word))"
   ]
  },
  {
   "cell_type": "code",
   "execution_count": 145,
   "metadata": {},
   "outputs": [],
   "source": [
    "# now we can turn those into a DataFrame. \n",
    "df = pd.DataFrame()\n",
    "df['words'] = words\n",
    "df['count'] = count"
   ]
  },
  {
   "cell_type": "code",
   "execution_count": 146,
   "metadata": {},
   "outputs": [],
   "source": [
    "df = df.drop_duplicates(subset = ['words'])\n",
    "df = df.set_index('words')"
   ]
  },
  {
   "cell_type": "code",
   "execution_count": 147,
   "metadata": {},
   "outputs": [
    {
     "data": {
      "text/html": [
       "<div>\n",
       "<style scoped>\n",
       "    .dataframe tbody tr th:only-of-type {\n",
       "        vertical-align: middle;\n",
       "    }\n",
       "\n",
       "    .dataframe tbody tr th {\n",
       "        vertical-align: top;\n",
       "    }\n",
       "\n",
       "    .dataframe thead th {\n",
       "        text-align: right;\n",
       "    }\n",
       "</style>\n",
       "<table border=\"1\" class=\"dataframe\">\n",
       "  <thead>\n",
       "    <tr style=\"text-align: right;\">\n",
       "      <th></th>\n",
       "      <th>count</th>\n",
       "    </tr>\n",
       "    <tr>\n",
       "      <th>words</th>\n",
       "      <th></th>\n",
       "    </tr>\n",
       "  </thead>\n",
       "  <tbody>\n",
       "    <tr>\n",
       "      <th>And</th>\n",
       "      <td>16</td>\n",
       "    </tr>\n",
       "    <tr>\n",
       "      <th>What</th>\n",
       "      <td>9</td>\n",
       "    </tr>\n",
       "    <tr>\n",
       "      <th>I</th>\n",
       "      <td>9</td>\n",
       "    </tr>\n",
       "    <tr>\n",
       "      <th>So</th>\n",
       "      <td>9</td>\n",
       "    </tr>\n",
       "    <tr>\n",
       "      <th>dimorphos</th>\n",
       "      <td>8</td>\n",
       "    </tr>\n",
       "    <tr>\n",
       "      <th>...</th>\n",
       "      <td>...</td>\n",
       "    </tr>\n",
       "    <tr>\n",
       "      <th>took</th>\n",
       "      <td>1</td>\n",
       "    </tr>\n",
       "    <tr>\n",
       "      <th>velocity</th>\n",
       "      <td>1</td>\n",
       "    </tr>\n",
       "    <tr>\n",
       "      <th>high</th>\n",
       "      <td>1</td>\n",
       "    </tr>\n",
       "    <tr>\n",
       "      <th>dent</th>\n",
       "      <td>1</td>\n",
       "    </tr>\n",
       "    <tr>\n",
       "      <th>analysis</th>\n",
       "      <td>1</td>\n",
       "    </tr>\n",
       "  </tbody>\n",
       "</table>\n",
       "<p>514 rows × 1 columns</p>\n",
       "</div>"
      ],
      "text/plain": [
       "           count\n",
       "words           \n",
       "And           16\n",
       "What           9\n",
       "I              9\n",
       "So             9\n",
       "dimorphos      8\n",
       "...          ...\n",
       "took           1\n",
       "velocity       1\n",
       "high           1\n",
       "dent           1\n",
       "analysis       1\n",
       "\n",
       "[514 rows x 1 columns]"
      ]
     },
     "execution_count": 147,
     "metadata": {},
     "output_type": "execute_result"
    }
   ],
   "source": [
    "df.sort_values(by = ['count'], ascending= False )"
   ]
  },
  {
   "cell_type": "code",
   "execution_count": null,
   "metadata": {},
   "outputs": [],
   "source": []
  }
 ],
 "metadata": {
  "kernelspec": {
   "display_name": "projects-env",
   "language": "python",
   "name": "python3"
  },
  "language_info": {
   "codemirror_mode": {
    "name": "ipython",
    "version": 3
   },
   "file_extension": ".py",
   "mimetype": "text/x-python",
   "name": "python",
   "nbconvert_exporter": "python",
   "pygments_lexer": "ipython3",
   "version": "3.10.6"
  },
  "orig_nbformat": 4
 },
 "nbformat": 4,
 "nbformat_minor": 2
}
