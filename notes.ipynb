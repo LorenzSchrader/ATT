{
 "cells": [
  {
   "cell_type": "markdown",
   "metadata": {},
   "source": [
    "# Notes"
   ]
  },
  {
   "attachments": {},
   "cell_type": "markdown",
   "metadata": {},
   "source": [
    "## Users"
   ]
  },
  {
   "attachments": {},
   "cell_type": "markdown",
   "metadata": {},
   "source": [
    "Lorenz - Derplot1997 \\\n",
    "LorenzS - \n"
   ]
  },
  {
   "cell_type": "markdown",
   "metadata": {},
   "source": []
  },
  {
   "cell_type": "markdown",
   "metadata": {},
   "source": []
  },
  {
   "attachments": {},
   "cell_type": "markdown",
   "metadata": {},
   "source": [
    "## Setup "
   ]
  },
  {
   "cell_type": "code",
   "execution_count": null,
   "metadata": {},
   "outputs": [],
   "source": []
  },
  {
   "attachments": {},
   "cell_type": "markdown",
   "metadata": {},
   "source": [
    "## Apps"
   ]
  },
  {
   "attachments": {},
   "cell_type": "markdown",
   "metadata": {},
   "source": [
    "- to create a new app, you would need to use the following command line code: \n",
    "  `python manage.py startapp {name of the app}`\n"
   ]
  },
  {
   "attachments": {},
   "cell_type": "markdown",
   "metadata": {},
   "source": [
    "- as a next step, you would want to add this new app to your `INSTALLED_APPS` in the settints.py file "
   ]
  },
  {
   "cell_type": "markdown",
   "metadata": {},
   "source": []
  },
  {
   "cell_type": "markdown",
   "metadata": {},
   "source": []
  },
  {
   "attachments": {},
   "cell_type": "markdown",
   "metadata": {},
   "source": [
    "## Database"
   ]
  },
  {
   "attachments": {},
   "cell_type": "markdown",
   "metadata": {},
   "source": [
    "- to create a table in a database, you need to go to the models.py file and create a class, that inherits from the models.Model class. \n",
    "- as seen below, we then define, the fields of our database. "
   ]
  },
  {
   "attachments": {},
   "cell_type": "markdown",
   "metadata": {},
   "source": [
    "<img src=\"pics/1.png\" alt=\"Flowers\" style=\"width:auto;\">"
   ]
  },
  {
   "attachments": {},
   "cell_type": "markdown",
   "metadata": {},
   "source": [
    "*Notice:*\n",
    "- we use the `timezone.now` function, to get the current date. \n",
    "- however, we dont call the function using bracklets, since we dont want it to be immedialty executed\n",
    "- furthermore, we use the `on_delete = models.CASCADE` argument, to define that, once a user delets his account, all his posts will also be deleted."
   ]
  },
  {
   "attachments": {},
   "cell_type": "markdown",
   "metadata": {},
   "source": [
    "### Initialize a Table "
   ]
  },
  {
   "attachments": {},
   "cell_type": "markdown",
   "metadata": {},
   "source": [
    "- to initialize the table, we use the command line command `python manage.py makemigrations`\n",
    "- running this code will create the migrations folder as well as the 0001_initial db. \n",
    "- opening this file shows what will happen once we run the `migrate` command. \n",
    "- if we run the `migrate` command the table gets initialized. "
   ]
  },
  {
   "attachments": {},
   "cell_type": "markdown",
   "metadata": {},
   "source": [
    "*Hints:*\n",
    "- if we use the command line command `python manage.py sqlmigrate {name of the app_folder we create the table in} 0001` we are able to see what the "
   ]
  },
  {
   "attachments": {},
   "cell_type": "markdown",
   "metadata": {},
   "source": [
    "### Accessing User Info from the table"
   ]
  },
  {
   "attachments": {},
   "cell_type": "markdown",
   "metadata": {},
   "source": [
    "- we can check our database wihtin the command line by creating a shell environment within"
   ]
  },
  {
   "cell_type": "code",
   "execution_count": null,
   "metadata": {},
   "outputs": [],
   "source": [
    ">>> from transcribe.models import Post\n",
    ">>> from django.contrib.auth.models import User \n",
    ">>> User.objects.all()"
   ]
  },
  {
   "attachments": {},
   "cell_type": "markdown",
   "metadata": {},
   "source": [
    "- we can choose users, by using the following lines of code: "
   ]
  },
  {
   "cell_type": "code",
   "execution_count": null,
   "metadata": {},
   "outputs": [],
   "source": [
    "user = User.objects.filter(username='LorenzS').first"
   ]
  },
  {
   "attachments": {},
   "cell_type": "markdown",
   "metadata": {},
   "source": [
    "- this will define a variable with the name of the user. \n",
    "- we can use methods such as `user.id` or `user.pk`, to access the user id as well as the primary key of this user"
   ]
  },
  {
   "attachments": {},
   "cell_type": "markdown",
   "metadata": {},
   "source": [
    "**Defining Users by ID**\n",
    "___\n",
    "- we can use `user = User.objects.get(id=1)` to define a user aswell"
   ]
  },
  {
   "cell_type": "markdown",
   "metadata": {},
   "source": []
  },
  {
   "cell_type": "markdown",
   "metadata": {},
   "source": [
    "### Posting Data"
   ]
  },
  {
   "attachments": {},
   "cell_type": "markdown",
   "metadata": {},
   "source": [
    "- to post data, you would use the following command: \n",
    "  - the first line defines the post.\n",
    "  - the second line saves the post to our database. "
   ]
  },
  {
   "cell_type": "code",
   "execution_count": null,
   "metadata": {},
   "outputs": [],
   "source": [
    "post_1 = Post(title='Blog 1',\n",
    "         content = 'Content of the first blog post', \n",
    "         author = user\n",
    "         ) \n",
    "post_1.save()"
   ]
  },
  {
   "attachments": {},
   "cell_type": "markdown",
   "metadata": {},
   "source": [
    "- if we want to access all the data of one user, we can use the `user.post_set.all()` command \n",
    "- we can also create another post by using:\n",
    "  - `user.post_set.create(title= 'Blog 3', content = 'third block post'`\n",
    "  - here we don't have to use the author argument, since we create the post using the post_set.create method on the current user. \n"
   ]
  },
  {
   "attachments": {},
   "cell_type": "markdown",
   "metadata": {},
   "source": [
    "## Creating Users: \n",
    "---"
   ]
  },
  {
   "attachments": {},
   "cell_type": "markdown",
   "metadata": {},
   "source": [
    "- to allow users, to build create accounts on their own, we need to start a new app, called register\n",
    "- after, we've instantiated this new app, we will go to the `views.py` file in order to create a register form, that can be used by our customers to create a new account. \n"
   ]
  },
  {
   "attachments": {},
   "cell_type": "markdown",
   "metadata": {},
   "source": []
  }
 ],
 "metadata": {
  "kernelspec": {
   "display_name": "att",
   "language": "python",
   "name": "python3"
  },
  "language_info": {
   "name": "python",
   "version": "3.10.6"
  },
  "orig_nbformat": 4,
  "vscode": {
   "interpreter": {
    "hash": "efef0603babb494a5fa8772e1849625e5a1d9752fae59b7caf2497a02622d980"
   }
  }
 },
 "nbformat": 4,
 "nbformat_minor": 2
}
